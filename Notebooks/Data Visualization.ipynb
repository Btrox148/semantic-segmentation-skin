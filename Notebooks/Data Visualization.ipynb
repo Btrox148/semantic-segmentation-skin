{
 "cells": [
  {
   "cell_type": "code",
   "execution_count": 43,
   "metadata": {},
   "outputs": [],
   "source": [
    "import matplotlib.pyplot as plt\n",
    "import pandas as pd\n",
    "import numpy as np"
   ]
  },
  {
   "cell_type": "code",
   "execution_count": 44,
   "metadata": {},
   "outputs": [],
   "source": [
    "data_path = \"../Data/Csv/\""
   ]
  },
  {
   "cell_type": "code",
   "execution_count": 101,
   "metadata": {},
   "outputs": [],
   "source": [
    "epoch_1_dl = data_path + \"valid_it_ep_6.csv\""
   ]
  },
  {
   "cell_type": "code",
   "execution_count": 105,
   "metadata": {},
   "outputs": [],
   "source": [
    "df = pd.read_csv(epoch_1_dl, index_col=0)"
   ]
  },
  {
   "cell_type": "code",
   "execution_count": 103,
   "metadata": {},
   "outputs": [],
   "source": [
    "def plot_log(array, maxlim, ylabel, xlabel, display, save):\n",
    "    fig_1 = plt.figure(figsize=(1.5,1.5))\n",
    "    plt.ylim(0,maxlim)\n",
    "    plt.ylabel(ylabel, fontsize=11)\n",
    "    plt.xlabel(xlabel, fontsize=11)\n",
    "    plt.plot(array)\n",
    "    if display:\n",
    "        plt.show()\n",
    "    if save:\n",
    "        plt.savefig('../Plots/Eng/'+'iou_epoch_'+epoch_1_dl[-5:-4], bbox_inches='tight')"
   ]
  },
  {
   "cell_type": "code",
   "execution_count": 104,
   "metadata": {},
   "outputs": [
    {
     "data": {
      "image/png": "[encoded data removed]",
      "text/plain": [
       "<Figure size 108x108 with 1 Axes>"
      ]
     },
     "metadata": {
      "needs_background": "light"
     },
     "output_type": "display_data"
    }
   ],
   "source": [
    "plot_log(df[\"Log\"], 1, \"IoU Score\", \"Iteration\", False, True)"
   ]
  }
 ],
 "metadata": {
  "kernelspec": {
   "display_name": "Python 3",
   "language": "python",
   "name": "python3"
  },
  "language_info": {
   "codemirror_mode": {
    "name": "ipython",
    "version": 3
   },
   "file_extension": ".py",
   "mimetype": "text/x-python",
   "name": "python",
   "nbconvert_exporter": "python",
   "pygments_lexer": "ipython3",
   "version": "3.7.9"
  }
 },
 "nbformat": 4,
 "nbformat_minor": 4
}

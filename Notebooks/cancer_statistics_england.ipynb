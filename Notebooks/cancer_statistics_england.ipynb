{
 "cells": [
  {
   "cell_type": "markdown",
   "metadata": {},
   "source": [
    "### Estadísticos\n",
    "En este notebook se visualiza información descriptiva sobre el cancer de piel, a continuación se realizan algunas operaciones de rutina para describir la base de datos obtenida de The National and Cancer Registration Analysis Service (NCRAS)."
   ]
  },
  {
   "cell_type": "code",
   "execution_count": 16,
   "metadata": {},
   "outputs": [],
   "source": [
    "import pandas as pd\n",
    "import numpy as np\n",
    "import matplotlib.pyplot as plt\n",
    "from io import StringIO\n",
    "import os"
   ]
  },
  {
   "cell_type": "code",
   "execution_count": 17,
   "metadata": {},
   "outputs": [],
   "source": [
    "csv_directory = '../Data/Csv/'\n",
    "filename = 'GDO_data_thin.csv'"
   ]
  },
  {
   "cell_type": "code",
   "execution_count": 18,
   "metadata": {
    "scrolled": true
   },
   "outputs": [
    {
     "data": {
      "text/html": [
       "<div>\n",
       "<style scoped>\n",
       "    .dataframe tbody tr th:only-of-type {\n",
       "        vertical-align: middle;\n",
       "    }\n",
       "\n",
       "    .dataframe tbody tr th {\n",
       "        vertical-align: top;\n",
       "    }\n",
       "\n",
       "    .dataframe thead th {\n",
       "        text-align: right;\n",
       "    }\n",
       "</style>\n",
       "<table border=\"1\" class=\"dataframe\">\n",
       "  <thead>\n",
       "    <tr style=\"text-align: right;\">\n",
       "      <th></th>\n",
       "      <th>cancer_site</th>\n",
       "      <th>year</th>\n",
       "      <th>tumour_type</th>\n",
       "      <th>tumour_type_2</th>\n",
       "      <th>tumour_type_3</th>\n",
       "      <th>basis_of_diagnosis</th>\n",
       "      <th>stage</th>\n",
       "      <th>stage_detail</th>\n",
       "      <th>stage_detail_2</th>\n",
       "      <th>age</th>\n",
       "      <th>region</th>\n",
       "      <th>sex</th>\n",
       "      <th>grade</th>\n",
       "      <th>nodal_status</th>\n",
       "      <th>variable</th>\n",
       "      <th>value</th>\n",
       "    </tr>\n",
       "  </thead>\n",
       "  <tbody>\n",
       "    <tr>\n",
       "      <th>0</th>\n",
       "      <td>Bladder, Urethra, Renal Pelvis and Ureter</td>\n",
       "      <td>2013</td>\n",
       "      <td>All</td>\n",
       "      <td>All</td>\n",
       "      <td>All</td>\n",
       "      <td>Not split by Basis of Diagnosis</td>\n",
       "      <td>All stages</td>\n",
       "      <td>All</td>\n",
       "      <td>All</td>\n",
       "      <td>All ages</td>\n",
       "      <td>All England</td>\n",
       "      <td>Persons</td>\n",
       "      <td>All grades</td>\n",
       "      <td>Not split by nodal status</td>\n",
       "      <td>incidence</td>\n",
       "      <td>20681</td>\n",
       "    </tr>\n",
       "    <tr>\n",
       "      <th>1</th>\n",
       "      <td>Bladder, Urethra, Renal Pelvis and Ureter</td>\n",
       "      <td>2013</td>\n",
       "      <td>Renal Pelvis and Ureter</td>\n",
       "      <td>All</td>\n",
       "      <td>All</td>\n",
       "      <td>Not split by Basis of Diagnosis</td>\n",
       "      <td>All stages</td>\n",
       "      <td>All</td>\n",
       "      <td>All</td>\n",
       "      <td>All ages</td>\n",
       "      <td>All England</td>\n",
       "      <td>Persons</td>\n",
       "      <td>All grades</td>\n",
       "      <td>Not split by nodal status</td>\n",
       "      <td>incidence</td>\n",
       "      <td>2111</td>\n",
       "    </tr>\n",
       "    <tr>\n",
       "      <th>2</th>\n",
       "      <td>Bladder, Urethra, Renal Pelvis and Ureter</td>\n",
       "      <td>2013</td>\n",
       "      <td>Renal Pelvis and Ureter</td>\n",
       "      <td>Malignant and in situ</td>\n",
       "      <td>All</td>\n",
       "      <td>Not split by Basis of Diagnosis</td>\n",
       "      <td>All stages</td>\n",
       "      <td>All</td>\n",
       "      <td>All</td>\n",
       "      <td>All ages</td>\n",
       "      <td>All England</td>\n",
       "      <td>Persons</td>\n",
       "      <td>All grades</td>\n",
       "      <td>Not split by nodal status</td>\n",
       "      <td>incidence</td>\n",
       "      <td>1978</td>\n",
       "    </tr>\n",
       "    <tr>\n",
       "      <th>3</th>\n",
       "      <td>Bladder, Urethra, Renal Pelvis and Ureter</td>\n",
       "      <td>2013</td>\n",
       "      <td>Renal Pelvis and Ureter</td>\n",
       "      <td>Malignant and in situ</td>\n",
       "      <td>All</td>\n",
       "      <td>Not split by Basis of Diagnosis</td>\n",
       "      <td>Non-muscle-invasive</td>\n",
       "      <td>All</td>\n",
       "      <td>All</td>\n",
       "      <td>All ages</td>\n",
       "      <td>All England</td>\n",
       "      <td>Persons</td>\n",
       "      <td>All grades</td>\n",
       "      <td>Not split by nodal status</td>\n",
       "      <td>incidence</td>\n",
       "      <td>858</td>\n",
       "    </tr>\n",
       "    <tr>\n",
       "      <th>4</th>\n",
       "      <td>Bladder, Urethra, Renal Pelvis and Ureter</td>\n",
       "      <td>2013</td>\n",
       "      <td>Renal Pelvis and Ureter</td>\n",
       "      <td>Malignant and in situ</td>\n",
       "      <td>All</td>\n",
       "      <td>Not split by Basis of Diagnosis</td>\n",
       "      <td>Non-muscle-invasive</td>\n",
       "      <td>Ta/Tis</td>\n",
       "      <td>All</td>\n",
       "      <td>All ages</td>\n",
       "      <td>All England</td>\n",
       "      <td>Persons</td>\n",
       "      <td>All grades</td>\n",
       "      <td>Not split by nodal status</td>\n",
       "      <td>incidence</td>\n",
       "      <td>583</td>\n",
       "    </tr>\n",
       "  </tbody>\n",
       "</table>\n",
       "</div>"
      ],
      "text/plain": [
       "                                 cancer_site  year              tumour_type  \\\n",
       "0  Bladder, Urethra, Renal Pelvis and Ureter  2013                      All   \n",
       "1  Bladder, Urethra, Renal Pelvis and Ureter  2013  Renal Pelvis and Ureter   \n",
       "2  Bladder, Urethra, Renal Pelvis and Ureter  2013  Renal Pelvis and Ureter   \n",
       "3  Bladder, Urethra, Renal Pelvis and Ureter  2013  Renal Pelvis and Ureter   \n",
       "4  Bladder, Urethra, Renal Pelvis and Ureter  2013  Renal Pelvis and Ureter   \n",
       "\n",
       "           tumour_type_2 tumour_type_3               basis_of_diagnosis  \\\n",
       "0                    All           All  Not split by Basis of Diagnosis   \n",
       "1                    All           All  Not split by Basis of Diagnosis   \n",
       "2  Malignant and in situ           All  Not split by Basis of Diagnosis   \n",
       "3  Malignant and in situ           All  Not split by Basis of Diagnosis   \n",
       "4  Malignant and in situ           All  Not split by Basis of Diagnosis   \n",
       "\n",
       "                 stage stage_detail stage_detail_2       age       region  \\\n",
       "0           All stages          All            All  All ages  All England   \n",
       "1           All stages          All            All  All ages  All England   \n",
       "2           All stages          All            All  All ages  All England   \n",
       "3  Non-muscle-invasive          All            All  All ages  All England   \n",
       "4  Non-muscle-invasive       Ta/Tis            All  All ages  All England   \n",
       "\n",
       "       sex       grade               nodal_status   variable  value  \n",
       "0  Persons  All grades  Not split by nodal status  incidence  20681  \n",
       "1  Persons  All grades  Not split by nodal status  incidence   2111  \n",
       "2  Persons  All grades  Not split by nodal status  incidence   1978  \n",
       "3  Persons  All grades  Not split by nodal status  incidence    858  \n",
       "4  Persons  All grades  Not split by nodal status  incidence    583  "
      ]
     },
     "execution_count": 18,
     "metadata": {},
     "output_type": "execute_result"
    }
   ],
   "source": [
    "path = csv_directory + filename\n",
    "df = pd.read_csv(path)\n",
    "df.head(5)"
   ]
  },
  {
   "cell_type": "code",
   "execution_count": 19,
   "metadata": {},
   "outputs": [
    {
     "data": {
      "text/plain": [
       "Oesophageal and stomach                                    128184\n",
       "Prostate                                                    95256\n",
       "Pancreas                                                    83496\n",
       "Brain, meningeal and other primary CNS tumours              82320\n",
       "Head and neck                                               79968\n",
       "Kidney                                                      67032\n",
       "Sarcoma                                                     54096\n",
       "Ovary, fallopian tube and primary peritoneal carcinomas     45864\n",
       "Bladder, Urethra, Renal Pelvis and Ureter                   38808\n",
       "Testicular tumours including post-pubertal teratomas        18816\n",
       "Soft tissue and peripheral nerve cancer                      1176\n",
       "Kaposi Sarcoma                                               1176\n",
       "Bone cancer                                                  1176\n",
       "Name: cancer_site, dtype: int64"
      ]
     },
     "execution_count": 19,
     "metadata": {},
     "output_type": "execute_result"
    }
   ],
   "source": [
    "df[\"cancer_site\"].value_counts()"
   ]
  },
  {
   "cell_type": "code",
   "execution_count": 20,
   "metadata": {},
   "outputs": [
    {
     "data": {
      "text/plain": [
       "All                                                 424536\n",
       "Overlapping lesion and unspecified                   37632\n",
       "Lower third                                          32928\n",
       "Malignant and in situ                                31752\n",
       "Renal cell carcinoma NOS                             30576\n",
       "Non-Cardia                                           21168\n",
       "Clear cell RCC                                       21168\n",
       "Upper and middle third                               17640\n",
       "Cardia and oesophagogastric junction                 15288\n",
       "Gastrointestinal stromal sarcoma (GIST)               9408\n",
       "Leiomyosarcoma                                        5880\n",
       "Undifferentiated Sarcoma                              5880\n",
       "Chromophobe RCC                                       4704\n",
       "Other malignant soft tissue tumours                   4704\n",
       "Papillary RCC                                         4704\n",
       "Liposarcoma                                           4704\n",
       "Uncertain or unknown                                  2352\n",
       "Chondrosarcoma                                        1176\n",
       "Rhabdomyosarcoma                                      1176\n",
       "Other malignant bone tumours                          1176\n",
       "Synovial                                              1176\n",
       "Myofibrosarcomas and other fibroblastic sarcomas      1176\n",
       "Malignant peripheral nerve sheath tumour (MPNST)      1176\n",
       "Osteosarcoma                                          1176\n",
       "Chordoma                                              1176\n",
       "Wilms (Neuroblastoma)                                 1176\n",
       "Tumours of uncertain differentiation                  1176\n",
       "Dermatofibrosarcoma protuberans                       1176\n",
       "Phyllodes                                             1176\n",
       "Endometrial stromal sarcoma                           1176\n",
       "Bone tumours of intermediate behaviour                1176\n",
       "Vascular Tumours                                      1176\n",
       "Other                                                 1176\n",
       "Soft tissue tumours of intermediate behaviour         1176\n",
       "Ewing sarcoma                                         1176\n",
       "Myxoid fibroblastic sarcomas                          1176\n",
       "Name: tumour_type_2, dtype: int64"
      ]
     },
     "execution_count": 20,
     "metadata": {},
     "output_type": "execute_result"
    }
   ],
   "source": [
    "df[\"tumour_type_2\"].value_counts()"
   ]
  },
  {
   "cell_type": "code",
   "execution_count": 21,
   "metadata": {},
   "outputs": [
    {
     "data": {
      "text/plain": [
       "All                        551544\n",
       "Adenocarcinoma              71736\n",
       "Squamous cell carcinoma     28224\n",
       "Other                       23520\n",
       "Urothelial                  15288\n",
       "Stomach                      5880\n",
       "Small intestine              1176\n",
       "Name: tumour_type_3, dtype: int64"
      ]
     },
     "execution_count": 21,
     "metadata": {},
     "output_type": "execute_result"
    }
   ],
   "source": [
    "df[\"tumour_type_3\"].value_counts()"
   ]
  },
  {
   "cell_type": "markdown",
   "metadata": {},
   "source": [
    "Se remueven las categorías no relacionadas con el cancer de piel y también el acumulado \"All Ages\"."
   ]
  },
  {
   "cell_type": "code",
   "execution_count": 30,
   "metadata": {},
   "outputs": [],
   "source": [
    "df = df[df.age.apply(lambda x: x !=\"All ages\")]\n",
    "df = df[df.cancer_site.apply(lambda x: x ==\"Sarcoma\")]"
   ]
  },
  {
   "cell_type": "code",
   "execution_count": 31,
   "metadata": {},
   "outputs": [
    {
     "data": {
      "text/plain": [
       "(21168, 16)"
      ]
     },
     "execution_count": 31,
     "metadata": {},
     "output_type": "execute_result"
    }
   ],
   "source": [
    "df.shape"
   ]
  },
  {
   "cell_type": "code",
   "execution_count": 32,
   "metadata": {},
   "outputs": [
    {
     "data": {
      "text/plain": [
       "cancer_site           category\n",
       "year                  category\n",
       "tumour_type             object\n",
       "tumour_type_2           object\n",
       "tumour_type_3           object\n",
       "basis_of_diagnosis      object\n",
       "stage                   object\n",
       "stage_detail            object\n",
       "stage_detail_2          object\n",
       "age                   category\n",
       "region                category\n",
       "sex                     object\n",
       "grade                   object\n",
       "nodal_status            object\n",
       "variable                object\n",
       "value                   object\n",
       "dtype: object"
      ]
     },
     "execution_count": 32,
     "metadata": {},
     "output_type": "execute_result"
    }
   ],
   "source": [
    "df.dtypes"
   ]
  },
  {
   "cell_type": "markdown",
   "metadata": {},
   "source": [
    "Es necesario cambiar los tipos de datos a su valor correspondiente."
   ]
  },
  {
   "cell_type": "code",
   "execution_count": 33,
   "metadata": {},
   "outputs": [],
   "source": [
    "df['cancer_site'] = df['cancer_site'].astype('category')\n",
    "df['year'] = df['year'].astype('category') \n",
    "df['region'] = df['region'].astype('category') \n",
    "df['age'] = df['age'].astype('category') "
   ]
  },
  {
   "cell_type": "code",
   "execution_count": 34,
   "metadata": {},
   "outputs": [
    {
     "data": {
      "text/plain": [
       "<matplotlib.axes._subplots.AxesSubplot at 0x7f823c5f6790>"
      ]
     },
     "execution_count": 34,
     "metadata": {},
     "output_type": "execute_result"
    },
    {
     "data": {
      "image/png": "[encoded data removed]",
      "text/plain": [
       "<Figure size 720x720 with 1 Axes>"
      ]
     },
     "metadata": {
      "needs_background": "light"
     },
     "output_type": "display_data"
    }
   ],
   "source": [
    "df['age'].value_counts().plot(kind='bar', figsize=(10,10))"
   ]
  }
 ],
 "metadata": {
  "kernelspec": {
   "display_name": "Python 3.8.2 64-bit",
   "language": "python",
   "name": "python38264bit8c32797f5acd4d17ad24350fa7eb8e2e"
  },
  "language_info": {
   "codemirror_mode": {
    "name": "ipython",
    "version": 3
   },
   "file_extension": ".py",
   "mimetype": "text/x-python",
   "name": "python",
   "nbconvert_exporter": "python",
   "pygments_lexer": "ipython3",
   "version": "3.8.2"
  }
 },
 "nbformat": 4,
 "nbformat_minor": 4
}
